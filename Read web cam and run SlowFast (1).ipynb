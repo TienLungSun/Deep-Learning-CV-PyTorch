{
 "cells": [
  {
   "cell_type": "code",
   "execution_count": 1,
   "metadata": {},
   "outputs": [],
   "source": [
    "import cv2\n",
    "import threading \n",
    "import time\n",
    "import torch\n",
    "import torchvision\n",
    "from torchvision import transforms\n",
    "import numpy as np"
   ]
  },
  {
   "cell_type": "code",
   "execution_count": 2,
   "metadata": {},
   "outputs": [
    {
     "name": "stdout",
     "output_type": "stream",
     "text": [
      "cuda NVIDIA GeForce RTX 3060\n"
     ]
    }
   ],
   "source": [
    "if(torch.cuda.is_available()):\n",
    "    device = torch.device(\"cuda\")\n",
    "    print(device, torch.cuda.get_device_name(0))\n",
    "else:\n",
    "    device= torch.device(\"cpu\")\n",
    "    print(device)"
   ]
  },
  {
   "cell_type": "markdown",
   "metadata": {},
   "source": [
    "### Load Slow Fast"
   ]
  },
  {
   "cell_type": "code",
   "execution_count": 3,
   "metadata": {},
   "outputs": [
    {
     "name": "stderr",
     "output_type": "stream",
     "text": [
      "Using cache found in C:\\Users\\ADMIN/.cache\\torch\\hub\\facebookresearch_pytorchvideo_main\n"
     ]
    }
   ],
   "source": [
    "torch.hub._validate_not_a_forked_repo=lambda a,b,c: True\n",
    "SlowFastNet = torch.hub.load('facebookresearch/pytorchvideo', 'slowfast_r50', pretrained=True)"
   ]
  },
  {
   "cell_type": "code",
   "execution_count": 4,
   "metadata": {},
   "outputs": [],
   "source": [
    "SlowFastNet = SlowFastNet.eval()\n",
    "SlowFastNet = SlowFastNet.to(device)"
   ]
  },
  {
   "cell_type": "code",
   "execution_count": 5,
   "metadata": {},
   "outputs": [],
   "source": [
    "import urllib\n",
    "import json\n",
    "\n",
    "json_url = \"https://dl.fbaipublicfiles.com/pyslowfast/dataset/class_names/kinetics_classnames.json\"\n",
    "json_filename = \"kinetics_classnames.json\"\n",
    "try: urllib.URLopener().retrieve(json_url, json_filename)\n",
    "except: urllib.request.urlretrieve(json_url, json_filename)"
   ]
  },
  {
   "cell_type": "code",
   "execution_count": 6,
   "metadata": {},
   "outputs": [],
   "source": [
    "with open(json_filename, \"r\") as f:\n",
    "    kinetics_classnames = json.load(f)\n",
    "\n",
    "# Create an id to label name mapping\n",
    "kinetics_id_to_classname = {}\n",
    "for k, v in kinetics_classnames.items():\n",
    "    kinetics_id_to_classname[v] = str(k).replace('\"', \"\")"
   ]
  },
  {
   "cell_type": "markdown",
   "metadata": {},
   "source": [
    "### Read img frames from web cam using Threading"
   ]
  },
  {
   "cell_type": "code",
   "execution_count": 7,
   "metadata": {},
   "outputs": [],
   "source": [
    "#啟動 web cam, 以 global variables 紀錄, \n",
    "__cap = cv2.VideoCapture(0) \n",
    "__ret, __frame = __cap.read()"
   ]
  },
  {
   "cell_type": "code",
   "execution_count": 8,
   "metadata": {},
   "outputs": [],
   "source": [
    "def Read_web_cam():\n",
    "    global __ret, __frame\n",
    "    t = threading.currentThread()\n",
    "    while getattr(t, \"do_run\", True):\n",
    "        __ret, __frame = __cap.read()"
   ]
  },
  {
   "cell_type": "code",
   "execution_count": 9,
   "metadata": {},
   "outputs": [],
   "source": [
    "t = threading.Thread(target = Read_web_cam, args = ())\n",
    "t.start()"
   ]
  },
  {
   "cell_type": "code",
   "execution_count": 10,
   "metadata": {},
   "outputs": [],
   "source": [
    "num_frames = 32\n",
    "sampling_rate = 2\n",
    "SlowFastFrames = num_frames * sampling_rate"
   ]
  },
  {
   "cell_type": "code",
   "execution_count": 11,
   "metadata": {},
   "outputs": [],
   "source": [
    "# collect SlowFastFrames = num_frames * sampling_rate\n",
    "imgLst =[]\n",
    "frame_count = 1\n",
    "cv2.namedWindow(\"window\", cv2.WINDOW_NORMAL)\n",
    "while (frame_count<= SlowFastFrames):\n",
    "    if __ret == True:\n",
    "        cv2.imshow(\"window\", __frame) # np array (H, W, 3) \n",
    "        \n",
    "        transform = transforms.Compose([transforms.ToTensor()]) \n",
    "        img = transform(__frame) # torch (3, H, W)\n",
    "        imgLst.append(img)\n",
    "        frame_count +=1\n",
    "t.do_run = False  #stop thread\n",
    "t.join() #when thread finishes comes here\n",
    "__cap.release()\n",
    "cv2.destroyAllWindows()"
   ]
  },
  {
   "cell_type": "code",
   "execution_count": 12,
   "metadata": {},
   "outputs": [
    {
     "name": "stdout",
     "output_type": "stream",
     "text": [
      "64 torch.Size([3, 480, 640])\n"
     ]
    }
   ],
   "source": [
    "print(len(imgLst), imgLst[0].shape)"
   ]
  },
  {
   "cell_type": "code",
   "execution_count": 13,
   "metadata": {},
   "outputs": [
    {
     "name": "stdout",
     "output_type": "stream",
     "text": [
      "torch.Size([64, 3, 480, 640])\n"
     ]
    }
   ],
   "source": [
    "# torch.stack stacks a list of tensors\n",
    "#a = [torch.FloatTensor([1, 2, 3]), torch.FloatTensor([3, 4, 5])]\n",
    "#b = torch.stack(a)  \n",
    "#tensor([[1., 2., 3.],\n",
    "#        [3., 4., 5.]])\n",
    "\n",
    "ImgsTensor = torch.stack(imgLst)  #stach a list of tensors \n",
    "print(ImgsTensor.shape)"
   ]
  },
  {
   "cell_type": "code",
   "execution_count": 14,
   "metadata": {},
   "outputs": [
    {
     "name": "stdout",
     "output_type": "stream",
     "text": [
      "torch.Size([3, 64, 480, 640])\n"
     ]
    }
   ],
   "source": [
    "# convert tensor shape from [64, 3, 256, 256] to [3, 64, 256, 256]\n",
    "ImgsTensor = ImgsTensor.permute(1, 0, 2, 3) #swap axis 0 and 1\n",
    "print(ImgsTensor.shape)"
   ]
  },
  {
   "cell_type": "markdown",
   "metadata": {},
   "source": [
    "### Sent image frame tensor to SlowFast"
   ]
  },
  {
   "cell_type": "code",
   "execution_count": 15,
   "metadata": {},
   "outputs": [],
   "source": [
    "mean = [0.45, 0.45, 0.45]\n",
    "std = [0.225, 0.225, 0.225]\n",
    "slowfast_alpha = 4"
   ]
  },
  {
   "cell_type": "code",
   "execution_count": 16,
   "metadata": {},
   "outputs": [
    {
     "name": "stderr",
     "output_type": "stream",
     "text": [
      "C:\\Users\\ADMIN\\anaconda3\\envs\\PyTorch_1.9.0\\lib\\site-packages\\torchvision\\transforms\\_functional_video.py:5: UserWarning: The _functional_video module is deprecated. Please use the functional module instead.\n",
      "  warnings.warn(\n",
      "C:\\Users\\ADMIN\\anaconda3\\envs\\PyTorch_1.9.0\\lib\\site-packages\\torchvision\\transforms\\_transforms_video.py:25: UserWarning: The _transforms_video module is deprecated. Please use the transforms module instead.\n",
      "  warnings.warn(\n"
     ]
    }
   ],
   "source": [
    "from torchvision.transforms import Compose, Lambda\n",
    "from torchvision.transforms._transforms_video import NormalizeVideo\n",
    "from pytorchvideo.transforms import UniformTemporalSubsample"
   ]
  },
  {
   "cell_type": "code",
   "execution_count": 17,
   "metadata": {},
   "outputs": [],
   "source": [
    "transform=Compose(\n",
    "    [\n",
    "        UniformTemporalSubsample(num_frames),\n",
    "        Lambda(lambda x: x/255.0),\n",
    "        NormalizeVideo(mean, std),\n",
    "    ])"
   ]
  },
  {
   "cell_type": "code",
   "execution_count": 18,
   "metadata": {},
   "outputs": [
    {
     "name": "stdout",
     "output_type": "stream",
     "text": [
      "torch.Size([3, 32, 480, 640])\n"
     ]
    }
   ],
   "source": [
    "fast_pathway = transform(ImgsTensor)\n",
    "print(fast_pathway.shape)"
   ]
  },
  {
   "cell_type": "code",
   "execution_count": 19,
   "metadata": {},
   "outputs": [
    {
     "name": "stdout",
     "output_type": "stream",
     "text": [
      "torch.Size([3, 8, 480, 640])\n"
     ]
    }
   ],
   "source": [
    "slow_pathway = torch.index_select(\n",
    "            fast_pathway,\n",
    "            1,\n",
    "            torch.linspace(\n",
    "                0, fast_pathway.shape[1] - 1, fast_pathway.shape[1] // slowfast_alpha\n",
    "            ).long(),\n",
    "        )\n",
    "print(slow_pathway.shape)"
   ]
  },
  {
   "cell_type": "code",
   "execution_count": 20,
   "metadata": {},
   "outputs": [],
   "source": [
    "SlowFastInputFrames = [slow_pathway, fast_pathway]"
   ]
  },
  {
   "cell_type": "code",
   "execution_count": 21,
   "metadata": {},
   "outputs": [],
   "source": [
    "SlowFastInputFrames = [i.to(device)[None, ...] for i in SlowFastInputFrames]"
   ]
  },
  {
   "cell_type": "code",
   "execution_count": 22,
   "metadata": {},
   "outputs": [],
   "source": [
    "# Pass the input clip through the model\n",
    "preds = SlowFastNet(SlowFastInputFrames)"
   ]
  },
  {
   "cell_type": "code",
   "execution_count": 23,
   "metadata": {},
   "outputs": [],
   "source": [
    "# Get the predicted classes\n",
    "post_act = torch.nn.Softmax(dim=1)\n",
    "preds = post_act(preds)"
   ]
  },
  {
   "cell_type": "code",
   "execution_count": 24,
   "metadata": {},
   "outputs": [
    {
     "data": {
      "text/plain": [
       "torch.return_types.topk(\n",
       "values=tensor([0.5935, 0.3248, 0.0363, 0.0232, 0.0047], device='cuda:0',\n",
       "       grad_fn=<TopkBackward0>),\n",
       "indices=tensor([304,  84,  93, 326,  40], device='cuda:0'))"
      ]
     },
     "execution_count": 24,
     "metadata": {},
     "output_type": "execute_result"
    }
   ],
   "source": [
    "preds[0].topk(k=5)"
   ]
  },
  {
   "cell_type": "code",
   "execution_count": 25,
   "metadata": {},
   "outputs": [
    {
     "name": "stdout",
     "output_type": "stream",
     "text": [
      "tensor([0.5935, 0.3248, 0.0363, 0.0232, 0.0047], device='cuda:0',\n",
      "       grad_fn=<TopkBackward0>) \n",
      " tensor([304,  84,  93, 326,  40], device='cuda:0')\n"
     ]
    }
   ],
   "source": [
    "print(preds[0].topk(k=5)[0], \"\\n\", preds[0].topk(k=5)[1])"
   ]
  },
  {
   "cell_type": "code",
   "execution_count": 26,
   "metadata": {},
   "outputs": [
    {
     "name": "stdout",
     "output_type": "stream",
     "text": [
      "tensor([304,  84,  93, 326,  40], device='cuda:0')\n"
     ]
    }
   ],
   "source": [
    "pred_classes = preds[0].topk(k=5)[1]\n",
    "print(pred_classes)"
   ]
  },
  {
   "cell_type": "code",
   "execution_count": 44,
   "metadata": {},
   "outputs": [
    {
     "name": "stdout",
     "output_type": "stream",
     "text": [
      "Top 5 predicted labels: singing, dancing ballet, diving cliff, spinning poi, bungee jumping\n"
     ]
    }
   ],
   "source": [
    "# Map the predicted classes to the label names\n",
    "pred_class_names = [kinetics_id_to_classname[int(i)] for i in pred_classes]\n",
    "print(\"Top 5 predicted labels: %s\" % \", \".join(pred_class_names))"
   ]
  },
  {
   "cell_type": "code",
   "execution_count": 34,
   "metadata": {},
   "outputs": [
    {
     "name": "stdout",
     "output_type": "stream",
     "text": [
      "singing 0.59\n",
      "dancing ballet 0.32\n"
     ]
    }
   ],
   "source": [
    "# get answer with prob>0.1\n",
    "result = []\n",
    "for i, score in enumerate(preds[0].topk(k=5)[0].tolist()):\n",
    "    if(score >= 0.1):\n",
    "        ActionID = preds[0].topk(k=5)[1][i] \n",
    "        ActionLabel = kinetics_id_to_classname[int(ActionID)]\n",
    "        print(ActionLabel, round(score, 2))\n",
    "        result.append([ActionLabel, round(score, 2)])"
   ]
  },
  {
   "cell_type": "code",
   "execution_count": 35,
   "metadata": {},
   "outputs": [
    {
     "data": {
      "text/plain": [
       "[['singing', 0.59], ['dancing ballet', 0.32]]"
      ]
     },
     "execution_count": 35,
     "metadata": {},
     "output_type": "execute_result"
    }
   ],
   "source": [
    "result"
   ]
  },
  {
   "cell_type": "code",
   "execution_count": null,
   "metadata": {},
   "outputs": [],
   "source": []
  }
 ],
 "metadata": {
  "kernelspec": {
   "display_name": "Python 3",
   "language": "python",
   "name": "python3"
  },
  "language_info": {
   "codemirror_mode": {
    "name": "ipython",
    "version": 3
   },
   "file_extension": ".py",
   "mimetype": "text/x-python",
   "name": "python",
   "nbconvert_exporter": "python",
   "pygments_lexer": "ipython3",
   "version": "3.8.8"
  }
 },
 "nbformat": 4,
 "nbformat_minor": 1
}
