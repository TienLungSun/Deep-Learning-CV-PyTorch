{
 "cells": [
  {
   "cell_type": "code",
   "execution_count": 2,
   "metadata": {},
   "outputs": [],
   "source": [
    "import cv2\n",
    "import threading \n",
    "import time"
   ]
  },
  {
   "cell_type": "code",
   "execution_count": 11,
   "metadata": {},
   "outputs": [],
   "source": [
    "#啟動 web cam, 以 global variables 紀錄, \n",
    "__cap = cv2.VideoCapture(0) \n",
    "__ret, __frame = __cap.read()"
   ]
  },
  {
   "cell_type": "code",
   "execution_count": 12,
   "metadata": {},
   "outputs": [],
   "source": [
    "def Read_web_cam():\n",
    "    global __ret, __frame\n",
    "    t = threading.currentThread()\n",
    "    while getattr(t, \"do_run\", True):\n",
    "        __ret, __frame = __cap.read()"
   ]
  },
  {
   "cell_type": "code",
   "execution_count": 13,
   "metadata": {},
   "outputs": [],
   "source": [
    "# seperate thread to read image frames from web cam\n",
    "t = threading.Thread(target = Read_web_cam, args = ())\n",
    "t.start()\n",
    "\n",
    "# main thread to display\n",
    "cv2.namedWindow(\"window\", cv2.WINDOW_NORMAL)\n",
    "while (True):\n",
    "    if __ret == True:\n",
    "        cv2.imshow(\"window\", __frame) \n",
    "\n",
    "    # Press Q on keyboard to exit\n",
    "    if (cv2.waitKey(25) & 0xFF == ord('q')):\n",
    "        t.do_run = False  #stop thread\n",
    "        break #break from while loop\n",
    "\n",
    "t.join() #when thread finishes comes here\n",
    "__cap.release()\n",
    "cv2.destroyAllWindows()"
   ]
  },
  {
   "cell_type": "code",
   "execution_count": null,
   "metadata": {},
   "outputs": [],
   "source": []
  }
 ],
 "metadata": {
  "kernelspec": {
   "display_name": "Python 3",
   "language": "python",
   "name": "python3"
  },
  "language_info": {
   "codemirror_mode": {
    "name": "ipython",
    "version": 3
   },
   "file_extension": ".py",
   "mimetype": "text/x-python",
   "name": "python",
   "nbconvert_exporter": "python",
   "pygments_lexer": "ipython3",
   "version": "3.8.8"
  }
 },
 "nbformat": 4,
 "nbformat_minor": 1
}
